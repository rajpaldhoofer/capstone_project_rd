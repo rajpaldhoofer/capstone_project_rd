{
 "cells": [
  {
   "cell_type": "code",
   "execution_count": null,
   "id": "2cbb1049",
   "metadata": {
    "id": "2cbb1049"
   },
   "outputs": [],
   "source": [
    "import sys \n",
    "from aima3 import learning\n",
    "%matplotlib inline\n",
    "import matplotlib.pyplot as plt\n",
    "import numpy as np\n",
    "from __future__ import print_function\n",
    "import torch\n",
    "import torch.nn as nn \n",
    "import torch.nn.functional as func \n",
    "from torch.autograd import Variable\n",
    "from torchviz import make_dot "
   ]
  },
  {
   "cell_type": "markdown",
   "id": "cb2434d2",
   "metadata": {
    "id": "cb2434d2"
   },
   "source": [
    "### Backpropagation and the Chain Rule\n",
    "\n",
    "\n",
    "*Foreword: In this notebook we use slightly different terminology. An arbitrary training instance is denoted as $(v, y) \\in E$ where $v$ is the collection of predictors, $y$ is the target, and $E$ is the training set. Moreover, the network weights are denoted by $x$.* \n",
    "\n",
    "Deep learning is fundamentally a giant problem in optimisation. We are choosing numerical \"weights\" to minimise a loss function $L$ (which depends on those weights). **This is the learning part.** In other words, \n",
    "$$L(x) = \\sum_{(v, y) \\in \\boldsymbol{E}} \\text{loss}(F(x, v) - y).$$\n",
    "Calculus tells us that the minimizer of $L$ satisfies the following system of equations (there may be many solutions that satisfy this, hence we do not necessarily obtain the minimizer -- we just hope it's something \"good enough\"):\n",
    "\n",
    "> **The partial derivatives of L with respect to the weights $x$ should be zero**: $$\\boxed{\\frac{\\partial L}{\\partial x} = 0 }$$\n",
    "\n",
    "We solve the equation above, iteratively, using a modification of the gradient descent method called **stochastic gradient descent**. \n",
    "\n",
    "*Backpropagation* is a method to compute derivatives quickly, using the chain rule: \n",
    "\n",
    "$$\\frac{dF}{dx} = \\frac{d}{dx}(F_3(F_2(F_1 (x))) = \\frac{dF_3}{dF_2}\\vert_{F_2=F_2(F_1(x))} \\frac{dF_2(F_1(x))}{dF_1}\\vert_{F_1 = F_1(x)} \\frac{dF_1(x)}{dx}\\vert_x.$$\n",
    "\n",
    "A convenient way to visualise how the function $F$ is computed from the weights $x_i$ is to use a **computational graph**. It separates the big computation into small steps, and we can find the derivative of each step (each computation) on the graph.\n",
    "\n",
    "**Backpropagation** is a technique for optimizing parameters in a neural network.. There are two types of backpropagation, depending on the relation between the number of inputs and outputs in the neural network: \n",
    "- *Forward-mode*: $F$ has few inputs, but have many outputs \n",
    "- *Backward-mode*: $F$ has many inputs, but have few outputs \n",
    "\n",
    "*Forward-mode* differentiation tracks how one input affects every node. *Reverse-mode* differentiation tracks how every node affects one output. That is, forward-mode differentiation applies the operator $\\dfrac{\\partial (.)}{\\partial x}$ to every node, while reverse mode differentiation applies the operator $\\dfrac{\\partial F}{\\partial (.)}$ to every node. The general rule is to sum over all possible paths from one node to the other, multiplying the derivatives on each edge of the path together. "
   ]
  },
  {
   "cell_type": "markdown",
   "id": "18266031",
   "metadata": {
    "id": "18266031"
   },
   "source": [
    "### Computational Graphs\n",
    "\n",
    "<img src=\"handwritten.png\" alt=\"Drawing\" style=\"width: 300px;\"/>\n",
    "\n",
    "1. For the computational graph above, compute the the $x$ derivative of $F$ using both forward- and backward-mode. Assume that the initial values of $x, y$ are 2 and 3 resp.\n",
    "\n",
    "2. At first it seems unbelievable that reorganising the computation can make such an enormous difference. Let's do an experiment with matrices: consider the product of 3 matrices: $A, B, C$. Which order? $AB$ first or $BC$ first? In other words, should we compute $(AB)C$ or $A(BC)$? \n",
    "\n",
    "Count the number of multiplications in each case and discuss what's the fastest strategy. This can be generalised to a product of $n$ matrices $A_1, A_2, \\dots, A_n$. Both backpropagation, and the *chain matrix multiplication* problem are instances of dynamic programming problems. Colah's blog listed below also points out the connection between dynamic programming and back-propagation. \n",
    "\n",
    "***\n",
    "Source: \n",
    "[1] http://colah.github.io/posts/2015-08-Backprop/\n",
    "***"
   ]
  },
  {
   "cell_type": "code",
   "execution_count": null,
   "id": "b085919f",
   "metadata": {
    "id": "b085919f"
   },
   "outputs": [],
   "source": [
    "# let's implement the example from the previous open discussion in pytorch \n",
    "x = Variable(torch.tensor(2.), requires_grad=True)\n",
    "y = Variable(torch.tensor(3.), requires_grad=True)\n",
    "c = x**2 \n",
    "s = x + y \n",
    "F = c*s "
   ]
  },
  {
   "cell_type": "code",
   "execution_count": null,
   "id": "5a329c3b",
   "metadata": {
    "id": "5a329c3b"
   },
   "outputs": [],
   "source": [
    "F.backward()"
   ]
  },
  {
   "cell_type": "code",
   "execution_count": null,
   "id": "24bef211",
   "metadata": {
    "id": "24bef211",
    "outputId": "33f91818-505e-43a4-b5d6-547f23060f7d"
   },
   "outputs": [
    {
     "data": {
      "text/plain": [
       "tensor(20., grad_fn=<MulBackward0>)"
      ]
     },
     "execution_count": 5,
     "metadata": {},
     "output_type": "execute_result"
    }
   ],
   "source": [
    "F"
   ]
  },
  {
   "cell_type": "code",
   "execution_count": null,
   "id": "d0a84c6e",
   "metadata": {
    "id": "d0a84c6e"
   },
   "outputs": [],
   "source": [
    "F.backward()"
   ]
  },
  {
   "cell_type": "markdown",
   "id": "208a7722",
   "metadata": {
    "id": "208a7722"
   },
   "source": [
    "This is the derivative of $F$ with respect to $x$! Remember that in the backward node, the derivative $\\dfrac{\\partial F}{\\partial (.)}$ is moving backwards. So,\n",
    "```python\n",
    "x.grad\n",
    "``` \n",
    "is the $x$-derivative of the output."
   ]
  },
  {
   "cell_type": "code",
   "execution_count": null,
   "id": "875a8b62",
   "metadata": {
    "id": "875a8b62",
    "outputId": "95382d51-72c8-4c62-ca73-3b8e6f2f8ba8"
   },
   "outputs": [
    {
     "data": {
      "text/plain": [
       "array(24., dtype=float32)"
      ]
     },
     "execution_count": 13,
     "metadata": {},
     "output_type": "execute_result"
    }
   ],
   "source": [
    "x.grad.numpy()"
   ]
  },
  {
   "cell_type": "markdown",
   "id": "e18e2a05",
   "metadata": {
    "id": "e18e2a05"
   },
   "source": [
    "**Exercise**: \n",
    "\n",
    "Let $F = \\log(x) + x^2 y + y^2$. \n",
    "\n",
    "Evaluate $\\dfrac{\\partial{F}}{\\partial{x}}$ and $\\dfrac{\\partial{F}}{\\partial{y}}$ at the point $x = 2$, $y = 3$ by hand (both in forward and backward modes) and by using `torch`."
   ]
  },
  {
   "cell_type": "markdown",
   "id": "5fe6c890",
   "metadata": {
    "id": "5fe6c890"
   },
   "source": [
    "**Answer**\n",
    "\n",
    "We have $\\dfrac{\\partial F}{\\partial x} = 1/x + 2xy$ which evaluates to $12.5$ at $(x=2, y=3)$. Moreover, we also have $\\dfrac{\\partial F}{\\partial y} = x^2 + 2y$ which evaluates to $10$ at $(x=2, y=3)$. To compute this, we demonstrate three ways next."
   ]
  },
  {
   "cell_type": "markdown",
   "id": "b388919c",
   "metadata": {
    "id": "b388919c"
   },
   "source": [
    "Firstly, we can just use the standard chain rule \n",
    "<img src=\"./method1.jpeg\" alt=\"Drawing\" style=\"width: 300px;\"/>"
   ]
  },
  {
   "cell_type": "markdown",
   "id": "0cb66c1d",
   "metadata": {
    "id": "0cb66c1d"
   },
   "source": [
    "Secondly, we can represent this problem as a computational graph and compute the derivatives backwards:\n",
    "<img src=\"./method2.jpeg\" alt=\"Drawing\" style=\"width: 300px;\"/>"
   ]
  },
  {
   "cell_type": "markdown",
   "id": "427d7f03",
   "metadata": {
    "id": "427d7f03"
   },
   "source": [
    "Finally, we can apply the so-called forward approach where we sum \"path\"s going out from, say $x$, to compute the derivative $\\partial F / \\partial x$. \n",
    "<img src=\"./method3.jpeg\" alt=\"Drawing\" style=\"width: 300px;\"/>"
   ]
  },
  {
   "cell_type": "markdown",
   "id": "8bcacd2b",
   "metadata": {
    "id": "8bcacd2b"
   },
   "source": [
    "Note that, as we have very simple problem, these caculation look very similar. However, when we have more complex expressions, they will look more different."
   ]
  },
  {
   "cell_type": "markdown",
   "id": "dfad2d1a",
   "metadata": {
    "id": "dfad2d1a"
   },
   "source": [
    "Now we solve this problem simply by using `torch`"
   ]
  },
  {
   "cell_type": "code",
   "execution_count": null,
   "id": "26d58681",
   "metadata": {
    "id": "26d58681",
    "outputId": "abd24c33-cfb5-461a-e0c7-dc30e439dbc1"
   },
   "outputs": [
    {
     "name": "stdout",
     "output_type": "stream",
     "text": [
      "derivative WRT x: 12.5 WRT y: 10.0\n"
     ]
    }
   ],
   "source": [
    "# let's implement the example from the previous open discussion in pytorch \n",
    "x = Variable(torch.tensor(2.), requires_grad=True)\n",
    "y = Variable(torch.tensor(3.), requires_grad=True)\n",
    "a = torch.log(x)\n",
    "b = (x**2) * (y)\n",
    "c = y**2\n",
    "F = a + b + c \n",
    "F.backward()\n",
    "print(\"derivative WRT x:\", x.grad.numpy(), \"WRT y:\", y.grad.numpy())"
   ]
  },
  {
   "cell_type": "markdown",
   "id": "2ced715c",
   "metadata": {
    "id": "2ced715c"
   },
   "source": [
    "### The Initial Weights $x_0$ in Gradient Descent \n",
    "\n",
    "The architecture in a neural net decides the form of the learning function $F(x, v)$. The training data goes into $v$. Then we *initialize* the weights $x$ in the matrices $A$ and vectors $b$. From those initial weights $x_0$, the optimisation algorithm (normally a form of gradient descent) computes weights $x_1$, $x_2$ etc aiming to minimizing the total loss iteratively. \n",
    "\n",
    "The million-pounds question is: *What weights $x_0$ should we start with?* Choosing $x_0 = 0$ would be a disaster (why?). Poor initialisation is an important cause of failure in deep learning.  \n",
    "\n",
    "Hanin and Rolnick [1] show that the initial variance $\\sigma^2$ controls the mean of the computed weights. The layer widths controls the variance of the weights. The key point is this: \n",
    "\n",
    "> Many-layered depth can reduce the loss on the training set. But if $\\sigma^2$ is wrong or width is sacrificed, then gradient descent can lose control of the weights. They can explode to infinity or implode to zero. \n",
    "\n",
    "Source:\n",
    "[1] B. Hanin and D. Rolnick, *How to start training: The effect of initialisation and architecture*, arXiv: 1803.01719, 19/06/2018."
   ]
  },
  {
   "cell_type": "markdown",
   "id": "e343908e",
   "metadata": {
    "id": "e343908e"
   },
   "source": [
    "### Finding the best weights x: Gradient Descent and Stochastic Gradient Descent \n",
    "\n",
    "#### Gradient Descent toward the mininum \n",
    "\n",
    "> How to minimise a function $f(x_1, x_2, \\dots, x_n)$? \n",
    "\n",
    "Calculus teaches us that all the first derivatives $\\frac{\\partial f}{\\partial x_i}$ are zero at the minimum (when $f$ is smooth). If we have $n=20$ unknowns (a small number in deep learning) then minimising one function $f$ produces 20 equations. *Gradient-descent* uses the derivatives $\\partial f/\\partial x_i$ to find a direction that reduces $f(x)$. \n",
    "\n",
    "> The steepest direction in which $f(x)$ decreases the fastest, is given by $-\\nabla f$: \n",
    "$$\\boxed{\\text{Gradient descent: } x_{k+1} = x_k - s_k \\nabla f(x_k)}\\qquad (\\ast)$$\n",
    "\n",
    "The symbol $\\nabla f$ represents the vector of $n$ partial derivatives of $f$: its *gradient*.  \n",
    "\n",
    "$$\\boxed{\\text{Gradient : } \\nabla f(x_1, x_2, \\dots, x_n) = \\left(\\frac{\\partial F}{\\partial x_1}, \\frac{\\partial F}{\\partial x_2}, \\dots, \\frac{\\partial F}{\\partial x_n} \\right) }$$\n",
    "\n",
    "\n",
    "\n",
    "So the equation $(\\ast)$ above is a vector equation for each step $k = 1, 2, \\dots$ and $s_k$ is the  *stepsize* or the *learning rate*. We hope to move toward the point $x^{\\ast}$ where the graph of $f(x)$ hits the bottom. "
   ]
  },
  {
   "cell_type": "markdown",
   "id": "e102df68",
   "metadata": {
    "id": "e102df68"
   },
   "source": [
    "#### Some examples \n",
    "1. For a constant vector $\\mathbf{a} = (a_1, a_2, \\dots, a_n)$, $F(\\mathbf{x}) = \\mathbf{a}^\\intercal \\mathbf{x}$ has gradient \n",
    "$\\nabla F = \\mathbf{a}.$\n",
    "\n",
    "2. For a symmetric matrix $S$, the gradient of $F(\\mathbf{x}) = \\mathbf{x}^{\\intercal} \\mathbf{S} \\mathbf{x}$ is  $\\nabla F = 2 \\mathbf{S} \\mathbf{x}.$\n",
    "\n",
    "3. For a positive definite symmetric matrix $S$, the minimum of a quadratic $F(x)=\\frac{1}{2}x^{\\intercal} S x - a^{\\intercal}x$ is the negative number $F_min = - \\frac{1}{2} a^{\\intercal} S a$  at $x^{\\ast} = S^{-1}a$.\n",
    "\n",
    "4. Let $F(X) = \\det (X)$, the determinant of a square matrix $X$. What do you think the partial derivative $\\frac{\\partial F}{\\partial x_{ij}}$ looks like? "
   ]
  },
  {
   "cell_type": "markdown",
   "id": "73e11fff",
   "metadata": {
    "id": "73e11fff"
   },
   "source": [
    "#### Optimisation with zig-zagging\n",
    "The example $f(x_1, x_2) = \\frac{1}{2}(x^2 + by^2)$ is extremely useful for $0 < b <= 1$. \n",
    "1. Calculate the gradient $\\nabla f$. \n",
    "2. We know that the minimum of $f$ is at $(0,0)$. Suppose instead we try to reach the minimum using the equation $(\\ast)$ above with *exact line search*. That means that at each step we shall choose $s_k$ for which $f$ decreases the most. Show that: \n",
    "$$x_k = b \\bigg (\\frac{b-1}{b+1}\\ \\bigg)^k, y_k=\\bigg(\\frac{1-b}{1+b}\\bigg)^k, f(x_k, y_k) = \\bigg(\\frac{1-b}{1+b}\\bigg)^{2k}f(x_0,y_0),$$\n",
    "where $(x_0, y_0) = (b, 1)$. "
   ]
  },
  {
   "cell_type": "markdown",
   "id": "46bf8f30",
   "metadata": {
    "id": "46bf8f30"
   },
   "source": [
    "### Stochastic Gradient Descent and ADAM (optional)\n",
    "\n",
    "Gradient descent is fundamental in training a deep neural network. It is based on a step of the form \n",
    "$$x_{k+1} = x_k - s_k \\nabla L(x_k).$$ That step should lead us downhill toward the point $x^{\\ast}$ where the loss function $L(x)$ is minimised for the test data $v$. But for large networks with many samples in the training set, this algorithm (as it stands) is not sucessful! \n",
    "\n",
    "It's important to recognize two different problems with classical steepest descent: \n",
    "\n",
    "1. Computing $\\nabla L$ (the gradient of the loss) function at every descent step - the derivatives of the total loss $L$ with respect to all the weights $x$ in the network - is too expensive. \n",
    "\n",
    "That total loss adds the individual losses *$l(x, v_i)$ for every sample $v_i$ in the training set* -- potentially millions of separate losses are computed and added in every computation of $L$.\n",
    "\n",
    "2. The number of weights is even larger. So $\\nabla_x L = 0$ for many different choices $x^{\\ast}$ of the weights. **Some of those choices can give poor results on unseen test data.** The learning function $F$ can fail to \"generalise\". But **stochastic gradient descent** (SGD) does find weights $x^{\\ast}$ that generalise. \n",
    "\n",
    "**Stochastic gradient descent uses only a \"minibatch\" of the training data at each step**. $B$ samples will be chosen randomly. Replacing the full batch of all the traiing data by a minibatch changes $L(x) = \\frac{1}{n} \\sum l_i(x)$ to a sum of only $B$ losses. This resolves both difficulties at once. The success of deep learning rests on these two facts: \n",
    "\n",
    "1. Computing $\\nabla l_i$ by backpropagation on B samples is much faster. Often $B$ = 1. \n",
    "2. The stochastic algorithm produces weights $x^{\\ast}$ that also succeed on unseen data. \n",
    "\n",
    "Something remarkable observed in practice is that the *SGD* avoids overfitting. Another fundamental strategy in training a neural network is **early stopping**. We'll provide more details in our practical tutorials. "
   ]
  },
  {
   "cell_type": "markdown",
   "id": "2d2acc02",
   "metadata": {
    "id": "2d2acc02"
   },
   "source": [
    "#### Stochastic Descent Using One Sample Per Step \n",
    "\n",
    "To simplify, suppose each minibatch contains only one sample $v_k$ (so B = 1). That sample is chosen randomly. The theory of stochastic descent usually assumes that the sample is replaced after use - in principle the sample could be chosen again at step k + 1. In practice, we often omit replacement and work through samples in a random order. \n",
    "\n",
    "Each pass through the training data is **one epoch** of the descent algorithm. Ordinary gradient descent computes one epoch per step (batch mode). Stochastic gradient descent needs many steps (for minibatches). The online advice is to choose $B \\leq 32$. \n",
    "\n",
    "Stochastic descent began with a seminal paper by Robbins and Monro [1] where *they developed a fast method to converge to the desired optimum in probability*: \n",
    "> $\\lim_{k\\to\\infty} Prob(\\vert\\vert x_k - x^{\\ast}\\vert\\vert > \\epsilon) \\to 0.$\n",
    "\n",
    "A word of caution: Stochastic descent is more sensitive to the stepsizes $s_k$ than full gradient descent. A typical feature of stochastic gradient descent is \"semi-convergence\": fast convergence at the start. Improvements we can use for facilitating the convergence of the SGD algorithm at late state iterations are \n",
    "1. adding *momentum* (e.g. Nesterov momentum etc)\n",
    "2. adaptive *learning rates* (e.g. ADAM etc)"
   ]
  },
  {
   "cell_type": "markdown",
   "id": "a999a96d",
   "metadata": {
    "id": "a999a96d"
   },
   "source": [
    "#### Fast convergence at the start: Least Squares with n = 1 \n",
    "\n",
    "In this case the $i$-ith loss is $l_i = \\frac{1}{2}(a_i x - b_i)^2$ with $a_i > 0$. The gradient of $l_i$ is its derivative $a_i(a_i x - b_i)$. The total loss over all $N$ samples is \n",
    "$$L(x) = \\frac{1}{2N}\\sum (a_i x - b_i)^2,$$\n",
    "which is least squares with $N$ equations and 1 unknown. We can then compute the gradient: \n",
    "\n",
    "$$\\nabla L = \\frac{1}{N} \\sum a_i (a_i x - b_i) = 0.$$ The solution is $x^{\\ast} = \\frac{\\sum a_i b_i}{\\sum a_i^2}.$\n",
    "\n",
    "*Important:* If $B/A$ is the largest ratio $b_i/a_i$, then the true solution $x^{\\ast}$ is below $B/A$. Similarly $x^{\\ast}$ is above the smallest ratio $\\beta/\\alpha$. Therefore if $x_k$ is outside the interval $I$ from $\\beta/\\alpha$ to $B/A$, then the $k$-th gradient descent step will move toward that interval $I$ containing $x^{\\ast}$."
   ]
  },
  {
   "cell_type": "code",
   "execution_count": null,
   "id": "9bf17a51",
   "metadata": {
    "id": "9bf17a51",
    "outputId": "faee4909-b706-43a1-9110-6d8cc54d0f94"
   },
   "outputs": [
    {
     "name": "stdout",
     "output_type": "stream",
     "text": [
      "0 2.494590997695923 [-0.38665107  0.06295354]\n",
      "10 1.0173693895339966 [-0.15991737  0.20283851]\n",
      "20 0.3450222909450531 [-0.01958176  0.28329068]\n",
      "30 0.10080095380544662 [0.06145087 0.31875104]\n",
      "40 0.09037579596042633 [0.12642813 0.34199518]\n",
      "50 0.043273162096738815 [0.17240429 0.35829544]\n",
      "60 0.03340400755405426 [0.20433179 0.36495805]\n",
      "70 0.01641322486102581 [0.22175772 0.36157423]\n",
      "80 0.008083786815404892 [0.24423824 0.3637701 ]\n",
      "90 0.01776561513543129 [0.25980151 0.36092934]\n",
      "100 0.018394585698843002 [0.27592343 0.35382405]\n",
      "110 0.009767291136085987 [0.28799617 0.35008514]\n",
      "120 0.006688486784696579 [0.29330108 0.34038079]\n",
      "130 0.00483357347548008 [0.30123496 0.33432084]\n",
      "140 0.0014333497965708375 [0.30389589 0.32932901]\n",
      "150 0.003803668078035116 [0.31209224 0.32711679]\n",
      "160 0.006454017478972673 [0.31995702 0.32259464]\n",
      "170 0.0014066919684410095 [0.32513726 0.31481811]\n",
      "180 0.00273319985717535 [0.32909748 0.30977312]\n",
      "190 0.0077883522026240826 [0.3315663  0.30349952]\n",
      "200 0.009782567620277405 [0.33656064 0.29624817]\n",
      "210 0.002819797256961465 [0.33956242 0.29278708]\n",
      "220 0.0014947205781936646 [0.34322485 0.28932276]\n",
      "230 0.0021028982009738684 [0.34863532 0.28473833]\n",
      "240 0.004019878339022398 [0.35019231 0.27916756]\n",
      "250 0.0018412040080875158 [0.35235938 0.27483159]\n",
      "260 0.0012132164556533098 [0.35487789 0.26894227]\n",
      "270 0.001412287587299943 [0.35883468 0.26525497]\n",
      "280 0.0017060970421880484 [0.3627274  0.26339865]\n",
      "290 0.0006843568990007043 [0.36444408 0.25927418]\n",
      "300 0.0011958761606365442 [0.36559165 0.25554305]\n",
      "310 0.0006491167587228119 [0.36727211 0.2537708 ]\n",
      "320 0.001101336907595396 [0.36950767 0.25239909]\n",
      "330 0.0005356712499633431 [0.37200835 0.25060889]\n",
      "340 0.0005356443580240011 [0.3743616  0.24985497]\n",
      "350 0.00051271659322083 [0.37556908 0.24715616]\n",
      "360 0.0008597825653851032 [0.3767198  0.24494071]\n",
      "370 0.0002684717474039644 [0.37803796 0.24259672]\n",
      "380 0.00021466659381985664 [0.37749529 0.24058984]\n",
      "390 0.0002642078325152397 [0.37902939 0.23956592]\n",
      "400 0.00095615308964625 [0.37845477 0.23639329]\n",
      "410 4.095454642083496e-05 [0.38054496 0.23366898]\n",
      "420 0.00018904013268183917 [0.38341239 0.23369683]\n",
      "430 0.0006982746417634189 [0.38417432 0.23167327]\n",
      "440 9.644823148846626e-05 [0.38403821 0.23032434]\n",
      "450 0.00022229629394132644 [0.38637397 0.22952826]\n",
      "460 0.00025215669302269816 [0.38699108 0.22828026]\n",
      "470 0.00016884786600712687 [0.38848722 0.22743411]\n",
      "480 0.00017039671365637332 [0.39008859 0.22649385]\n",
      "490 0.00016808112559374422 [0.39176506 0.22626662]\n",
      "final weights: tensor([[0.3915],\n",
      "        [0.2248]], requires_grad=True)\n"
     ]
    }
   ],
   "source": [
    "# Code for one-dimensional least squares\n",
    "from torch.autograd import Variable \n",
    "\n",
    "dtype = torch.float\n",
    "device = torch.device(\"cpu\")\n",
    "# device = torch.device(\"cuda:0\") # Uncomment this to run on GPU\n",
    "\n",
    "# B is batch size; D_in is input dimension;\n",
    "# N is sample size; D_out is output dimension.\n",
    "B, N, D_in, D_out = 4, 20, 2, 1\n",
    "\n",
    "# We're generating some synthetic data here.\n",
    "# The weights to be learned are (w1, w2) = (1.0, 0.2)\n",
    "# https://stackoverflow.com/questions/17869840/numpy-vector-n-1-dimension-n-dimension-conversion\n",
    "eps = 1.e-2\n",
    "xrange = yrange = np.arange(0.0, 1.0, 0.1)\n",
    "g = np.meshgrid(xrange, yrange, sparse=False, indexing='ij')\n",
    "_x = np.vstack(tup=tuple(map(np.ravel, g))).T\n",
    "_w = np.array((0.4, 0.2)).reshape(1, -1).T\n",
    "_y = _x.dot(_w) + eps * np.random.rand(_x.shape[0], 1)\n",
    "\n",
    "# select a small sample of the data \n",
    "np.random.seed(42)\n",
    "idx = np.random.randint(0, 100, N)\n",
    "x_np = _x[idx]\n",
    "y_np = _y[idx]\n",
    "\n",
    "# Create random Tensors to hold input and outputs.\n",
    "# Setting requires_grad=False indicates that we do not need to compute gradients\n",
    "# with respect to these Tensors during the backward pass.\n",
    "\n",
    "x = Variable(torch.Tensor(x_np)) \n",
    "y = Variable(torch.Tensor(y_np)) \n",
    "\n",
    "# Create random Tensors for weights.\n",
    "# Setting requires_grad=True indicates that we want to compute gradients with\n",
    "# respect to these Tensors during the backward pass.\n",
    "w = torch.randn(D_in, D_out, device=device, dtype=dtype, requires_grad=True)\n",
    "\n",
    "learning_rate = 1e-2\n",
    "epochs = 500\n",
    "weights = np.empty((epochs//10, 2))\n",
    "losses = np.empty(epochs//10)\n",
    "for t in range(epochs):\n",
    "    sample = np.random.randint(0, 20, B)\n",
    "    x_B, y_B = x[sample], y[sample]\n",
    "    # Forward pass: compute predicted y using operations on Tensors; these\n",
    "    # are exactly the same operations we used to compute the forward pass using\n",
    "    # Tensors, but we do not need to keep references to intermediate values since\n",
    "    # we are not implementing the backward pass by hand.\n",
    "    y_pred = x_B.mm(w)\n",
    "\n",
    "    # Compute and print loss using operations on Tensors.\n",
    "    # Now loss is a Tensor of shape (1,)\n",
    "    # loss.item() gets the a scalar value held in the loss.\n",
    "    loss = (y_pred - y_B).pow(2).sum()\n",
    "\n",
    "    # Use autograd to compute the backward pass. This call will compute the\n",
    "    # gradient of loss with respect to all Tensors with requires_grad=True.\n",
    "    # After this call w1.grad and w2.grad will be Tensors holding the gradient\n",
    "    # of the loss with respect to w1 and w2 respectively.\n",
    "    loss.backward()\n",
    "\n",
    "    # Manually update weights using gradient descent. Wrap in torch.no_grad()\n",
    "    # because weights have requires_grad=True, but we don't need to track this\n",
    "    # in autograd.\n",
    "    # An alternative way is to operate on weight.data and weight.grad.data.\n",
    "    # Recall that tensor.data gives a tensor that shares the storage with\n",
    "    # tensor, but doesn't track history.\n",
    "    # You can also use torch.optim.SGD to achieve this.\n",
    "    with torch.no_grad():\n",
    "        w -= learning_rate * w.grad # this is the gradient of loss with respect to w\n",
    "        \n",
    "        # Manually zero the gradients after updating weights\n",
    "        w.grad.zero_()\n",
    "        \n",
    "    if t % 10 == 0: \n",
    "        ind = int(t/10)\n",
    "        losses[ind] = loss.item()\n",
    "        weights[ind, :] = w.data.view(1, -1).numpy()[0]\n",
    "        print(t, losses[ind], weights[ind, :])\n",
    "\n",
    "# compare this with the initial weights we had set up in our data \n",
    "print('final weights:', w)"
   ]
  }
 ],
 "metadata": {
  "colab": {
   "collapsed_sections": [],
   "name": "IMP-PCMLAI-m19-advancedML-part3-solution.ipynb",
   "provenance": []
  },
  "kernelspec": {
   "display_name": "Python 3 (ipykernel)",
   "language": "python",
   "name": "python3"
  },
  "language_info": {
   "codemirror_mode": {
    "name": "ipython",
    "version": 3
   },
   "file_extension": ".py",
   "mimetype": "text/x-python",
   "name": "python",
   "nbconvert_exporter": "python",
   "pygments_lexer": "ipython3",
   "version": "3.11.7"
  }
 },
 "nbformat": 4,
 "nbformat_minor": 5
}
