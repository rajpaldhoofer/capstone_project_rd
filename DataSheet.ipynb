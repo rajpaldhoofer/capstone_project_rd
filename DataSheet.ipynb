{
 "cells": [
  {
   "cell_type": "markdown",
   "id": "dd48482b-7c28-4452-a853-cc32f2d9ad0c",
   "metadata": {},
   "source": [
    "# **Data Sheet**"
   ]
  },
  {
   "cell_type": "markdown",
   "id": "84a5a307-2567-45fd-87a2-d340fd87ad8e",
   "metadata": {},
   "source": [
    "### **Motivation**\n",
    "\n",
    "**<ins>For what purpose was the dataset created</ins>**\n",
    "\n",
    "The fundamental purpose of the datasets creation is to predict patient churn; that is, whether a patient will leave for a preventable or non-preventable reason. The motivation for this project was to essentially fill a specific gap in the understanding of patient churn, such as the difficulty in identifying at-risk patients or determining the cause of them. As a result of identifying those patients who may churn, efforts can be employed such as:\n",
    "* **Proactive Patient Retention** By identifying those patients who are at risk of leaving the dispensing service, targeted strategies or campaigns can be implemented to improve patient retention.\n",
    "* **Improving the Service** By understanding the reasons for patients leaving the service, issues can be rectified in terms of product or service delivery. For example, it may be that service QIs is a driving factor in patient churn, and so efforts can be employed to enhance such service.\n",
    "\n",
    "\n",
    "**<ins>Who created the dataset (e.g., which team, research group) and on behalf of which entity (e.g., company, institution, organization)?</ins>**\n",
    "\n",
    "The dataset was created by myself, using the Quality Issues Report, Invoicing Data & the Patient File, which are all data kept on premesis. The reason for each of these data sources being included can be found below:\n",
    "* **Invoicing Data** was used to calculate the days since last order\n",
    "* **Quality Issues Data** was used to capture any Product or Service related QIs from patients\n",
    "* **Patient File** was used to capture the relevant demographic history of the patient, together with churn related info.\n",
    "\n",
    "Further, the dataset was constructed on behalf of the company to better understand patient churn. \n",
    "\n",
    "**<ins> Who funded the creation of the dataset?</ins>**\n",
    "\n",
    "Since I was using existing company resources and leveraging my own time and skillset learnt during the course, no funding was required for the creation of the dataset.ments?"
   ]
  },
  {
   "cell_type": "markdown",
   "id": "b689325a-2a8a-4529-a49b-72ce9ea9e0a7",
   "metadata": {},
   "source": [
    "### **Composition**\n",
    "\n",
    "**<ins>What do the instances that comprise the dataset represent (e.g., documents, photos, people, countries)?</ins>**\n",
    "\n",
    "The instances within the dataset represent individual patients, with each of the rows correspond to a unique patient. Further, each of the columns contain essential information regarding the patient, such as their Age, Gender, Operation Type, Location, Days since last order, & Churn Status.\n",
    "\n",
    "**<ins>How many instances of each type are there?</ins>**\n",
    "\n",
    "In this dataset, there are 12,390 instances across 9 features. Of these 12,390 instances, 800 of them have Churn (Churn=1).\n",
    "\n",
    "**<ins>Is there any missing data?</ins>**\n",
    "\n",
    "There is no missing data present in the dataset. \n",
    "\n",
    "**<ins>Does the dataset contain data that might be considered confidential (e.g., data that is protected by legal privilege or by doctor–patient confidentiality, data that includes the content of individuals’ non-public communications)?</ins>**\n",
    "\n",
    "The dataset contains data that is likely to be considered confidential; such as Operation Type, Age or Gender. In order to ensure patient provicy and data protection regulations are being complied to, the data is anonymized, with the 'Patient Number' being anonymized again. As a result, this removes any personally identifiable information and makes the data less sensitive. "
   ]
  },
  {
   "cell_type": "markdown",
   "id": "2a2e2b2e-d148-4c65-adc2-c59fc40bfdbd",
   "metadata": {},
   "source": [
    "### **Collection Process**\n",
    "\n",
    "**<ins>How was the data acquired?</ins>**\n",
    "\n",
    "The data was acquired directly using the company's internal systems, this including the Invoicing Data, Quality Issues system and the Patient Repository (Patient File). \n",
    "\n",
    "**<ins>If the data is a sample of a larger subset, what was the sampling strategy?</ins>**\n",
    "\n",
    "The data being used in the dataset consists of all patients who have been deleted over the last 5 years. Since the dataset is not too large, it is therefore comprehensive for conducting the analysis. \n",
    "\n",
    "**<ins>Over what time frame was the data collected?</ins>**\n",
    "\n",
    "The data was collected over the last 5 years; that is those patients who have been deleted from the dispensing service over the last 5 years (July-19 to Aug-24)."
   ]
  },
  {
   "cell_type": "markdown",
   "id": "156cf5f4-c9c0-4562-a0da-a50e6d912d11",
   "metadata": {},
   "source": [
    "### **Pre-Processing/Cleaning/Labelling**\n",
    "\n",
    "**<ins>Was any preprocessing/cleaning/labeling of the data done (e.g., discretization or bucketing, tokenization, part-of-speech tagging, SIFT feature extraction, removal of instances, processing of missing values)? If so, please provide a description. If not, you may skip the remaining questions in this section. </ins>**\n",
    "\n",
    "During the construction of the dataset, a number of pre-processing/cleaning/labelling techniques took place. Specifically:\n",
    "* **Age** was calculated by via the difference between the patients' Date Deleted & their Date of Birth on file. Occasionally, 'Age' on the Patient File is incorrect, so to ensure best practice, this was calculated directly).\n",
    "* **Days since last order** consisted of Feature Engineering, and was calculated via the difference betweent he patients' Date Deleted & their most recent order.\n",
    "* **Churn** involved assigning Binary Labels to each of the instances. For this, the target variable was labelled as '1' if the patient left the service for a Preventable Deletion (this being identified via the 'Deletion Reason' column; so if this was 'Other DAC', or 'Chemist', then it would be classified as a Churn), otherwise it was labelled as '0' - since this would be a non-preventable reason (such as deceased or reversal).\n",
    "*  **Operation Type** was cleaned to include the Top 6 Operations, with everywhere else being classed as 'Other'. The Top 6 operation types accounted for just over 96% of the instances, with the Others being spread across multiple OP types, and so would've added unnecessary noise to the dataset.\n",
    "*  **Product QI & Service QI** features were calculated as Binary indicators, such that if a patient had reported a Product related QI in the last 12 months, then this would appear as a 1, otherwise 0.\n",
    "\n",
    "**<ins>Was the “raw” data saved in addition to the preprocessed/cleaned/labeled data (e.g., to support unanticipated future uses)?</ins>**\n",
    "\n",
    "The raw data was saved in case any future uses were required."
   ]
  },
  {
   "cell_type": "markdown",
   "id": "9690319f-5e36-4372-b23f-85dda2b48c34",
   "metadata": {},
   "source": [
    "### **Uses**\n",
    "\n",
    "**<ins>What other tasks could the dataset be used for? </ins>**\n",
    "\n",
    "The dataset can be used for many other tasks, such as the following:\n",
    "* **Patient Segmentation** By conducting effective patient segmentation, and understanding their needs, the dispensing service can tailor its service and communications to improve patient satisfaction and therefore improve on patient retention.\n",
    "* **Identifying Unmet Needs** By analyzing the dataset, it may be possible to identify recurring product-related quality issues that need to be addressed for certain cohorts of patients (for example Male Ileostomists under the age of 18).\n",
    "* **Effective Resource Allocation** As a result of understanding the factors that contribute to patient churn, the company can thereby allocate resources a lot more effectively in order to prevent churn and improve on retention.\n",
    "* **Prediction** As a result of understanding which patients are 'not' going to churn, manufacturing can be forecast more effectivey for certain SKUs.\n",
    "* **Understanding Financial Risk** By analyzing the dataset, we can help to understand what the financial impact would be of patient churns continuing and growing annually, and therefore implement strategies to mitigate this risk from escaberating.\n",
    "\n",
    "**<ins>Is there anything about the composition of the dataset or the way it was collected and preprocessed/cleaned/labeled that might impact future uses? For example, is there anything that a dataset consumer might need to know to avoid uses that could result in unfair treatment of individuals or groups (e.g., stereotyping, quality of service issues) or other risks or harms (e.g., legal risks, financial harms)? If so, please provide a description. Is there anything a dataset consumer could do to mitigate these risks or harms?</ins>**\n",
    "\n",
    "Since the dataset is not a sample, and is essentially the population, the existence of any Sample bias is neglible. Further, since all the data was collected in the same way (whether this is Invoicing, Quality issues being reported or on the Patient Repository), there is no bias being introduced via the data collection stage for any of the patient types.\n",
    "\n",
    "As for the preprocessing and labelling, it is perhaps possible that bias could be introduced for some of the groups of patients if there is a small cohort of them. For example, in Operation Type, one of them was 'Jejunostomy', accounting for 3 patients, for which all of them Churned. In order to mitigate such bias, action was taken to group such cohort of patients into the 'Others' category to mask it. \n",
    "\n",
    "Above all, in order to ensure the patient data adheres to privacy and ethical regulations/concerns, careful handling was taken place at all times, by anonymizing all patient records.\n",
    "\n",
    "\n",
    "**<ins>Are there tasks for which the dataset should not be used? If so, please provide a description</ins>**\n",
    "\n",
    "Despite the dataset being highly valuable for a number of tasks, it should be asserted that it may not be appropriate for a number of tasks, such as:\n",
    "* **Making casual inferences** It's imperative to understand that the dataset is entirely observational, in the sense that it records what has happened but not the reason for it. Therefore, anything related to making casual inferences on this dataset should be avoided at all costs, and instead should be provide the motivation for further investigation to take place.\n",
    "* **Generalizing to other populations** The dataset is entirely specific to the company's patients, and so may not be representative to other populations, for example another dispensing service.\n",
    "* **Discriminatory Practices** Above all, the dataset should not be used in any way that may lead to the unfair treatment of certain cohorts of patients, that may impact their care in a negative outlook.\n"
   ]
  },
  {
   "cell_type": "markdown",
   "id": "e997b10e-0d97-41ac-a5cb-e4a21f43233f",
   "metadata": {},
   "source": [
    "### **Distribution**\n",
    "\n",
    "**<ins>How has the dataset already been distributed?</ins>**\n",
    "\n",
    "The dataset has not been widely distributed, and instead is being shared internally within the company's analytics team for various use cases.\n",
    "\n",
    "**<ins>Is it subject to any copyright or other intellectual property (IP) license, and/or under applicable terms of use (ToU)?</ins>**\n",
    "\n",
    "The dataset is not subject to any copyright or other intellectual property (IP) licence."
   ]
  },
  {
   "cell_type": "markdown",
   "id": "125b75b1-da12-4fb9-a34c-da0bf8e6f35c",
   "metadata": {},
   "source": [
    "### **Maintenance**\n",
    "\n",
    "**<ins>Who maintains the dataset?</ins>**\n",
    "\n",
    "The dataset will be maintained via a script, which collates all relevant files (Patient/Quality/Invoicing) to add the new records to the dataset."
   ]
  }
 ],
 "metadata": {
  "kernelspec": {
   "display_name": "Python 3 (ipykernel)",
   "language": "python",
   "name": "python3"
  },
  "language_info": {
   "codemirror_mode": {
    "name": "ipython",
    "version": 3
   },
   "file_extension": ".py",
   "mimetype": "text/x-python",
   "name": "python",
   "nbconvert_exporter": "python",
   "pygments_lexer": "ipython3",
   "version": "3.11.7"
  }
 },
 "nbformat": 4,
 "nbformat_minor": 5
}
